{
  "nbformat": 4,
  "nbformat_minor": 0,
  "metadata": {
    "colab": {
      "provenance": []
    },
    "kernelspec": {
      "name": "python3",
      "display_name": "Python 3"
    },
    "language_info": {
      "name": "python"
    }
  },
  "cells": [
    {
      "cell_type": "markdown",
      "source": [
        "# Sentiment Analysis with Hotel Reviews - Processing the Data"
      ],
      "metadata": {
        "id": "knBw1PUvv53K"
      }
    },
    {
      "cell_type": "markdown",
      "source": [
        "## Exercise - Data exploration"
      ],
      "metadata": {
        "id": "T95XIPMHwKSu"
      }
    },
    {
      "cell_type": "markdown",
      "source": [
        "### Load the data\n",
        "That's enough examining the data visually, now you'll write some code and get some answers! This section uses the pandas library. Your very first task is to ensure you can load and read the CSV data. The pandas library has a fast CSV loader, and the result is placed in a dataframe, as in previous lessons. The CSV we are loading has over half a million rows, but only 17 columns. Pandas gives you lots of powerful ways to interact with a dataframe, including the ability to perform operations on every row.\n",
        "\n",
        "From here on in this lesson, there will be code snippets and some explanations of the code and some discussion about what the results mean. Use the included notebook.ipynb for your code.\n",
        "\n",
        "Let's start with loading the data file you be using:"
      ],
      "metadata": {
        "id": "9jAun3tuwT-f"
      }
    },
    {
      "cell_type": "code",
      "source": [
        "# Load the hotel reviews from CSV\n",
        "import pandas as pd\n",
        "import time\n",
        "# importing time so the start and end time can be used to calculate file loading time\n",
        "print(\"Loading data file now, this could take a while depending on file size\")\n",
        "start = time.time()\n",
        "# df is 'DataFrame' - make sure you downloaded the file to the data folder\n",
        "df = pd.read_csv('Hotel_Reviews.csv')\n",
        "end = time.time()\n",
        "print(\"Loading took \" + str(round(end - start, 2)) + \" seconds\")"
      ],
      "metadata": {
        "colab": {
          "base_uri": "https://localhost:8080/"
        },
        "id": "7QqiMc23wWaD",
        "outputId": "396cf537-2e01-409b-b57a-10456b51793b"
      },
      "execution_count": null,
      "outputs": [
        {
          "output_type": "stream",
          "name": "stdout",
          "text": [
            "Loading data file now, this could take a while depending on file size\n",
            "Loading took 0.06 seconds\n"
          ]
        }
      ]
    },
    {
      "cell_type": "markdown",
      "source": [
        "Now that the data is loaded, we can perform some operations on it. Keep this code at the top of your program for the next part."
      ],
      "metadata": {
        "id": "va-RVP1_w9ed"
      }
    },
    {
      "cell_type": "markdown",
      "source": [
        "## Explore the data\n",
        "In this case, the data is already clean, that means that it is ready to work with, and does not have characters in other languages that might trip up algorithms expecting only English characters.\n",
        "\n",
        "✅ You might have to work with data that required some initial processing to format it before applying NLP techniques, but not this time. If you had to, how would you handle non-English characters?\n",
        "\n",
        "Take a moment to ensure that once the data is loaded, you can explore it with code. It's very easy to want to focus on the Negative_Review and Positive_Review columns. They are filled with natural text for your NLP algorithms to process. But wait! Before you jump into the NLP and sentiment, you should follow the code below to ascertain if the values given in the dataset match the values you calculate with pandas."
      ],
      "metadata": {
        "id": "MBZzabv6xA7r"
      }
    },
    {
      "cell_type": "markdown",
      "source": [
        "### Dataframe operations\n",
        "The first task in this lesson is to check if the following assertions are correct by writing some code that examines the data frame (without changing it).\n",
        "\n",
        "Like many programming tasks, there are several ways to complete this, but good advice is to do it in the simplest, easiest way you can, especially if it will be easier to understand when you come back to this code in the future. With dataframes, there is a comprehensive API that will often have a way to do what you want efficiently.\n",
        "\n",
        "Treat the following questions as coding tasks and attempt to answer them without looking at the solution.\n",
        "\n",
        "Print out the shape of the data frame you have just loaded (the shape is the number of rows and columns)\n",
        "Calculate the frequency count for reviewer nationalities:\n",
        "How many distinct values are there for the column Reviewer_Nationality and what are they?\n",
        "What reviewer nationality is the most common in the dataset (print country and number of reviews)?\n",
        "What are the next top 10 most frequently found nationalities, and their frequency count?\n",
        "What was the most frequently reviewed hotel for each of the top 10 most reviewer nationalities?\n",
        "How many reviews are there per hotel (frequency count of hotel) in the dataset?\n",
        "While there is an Average_Score column for each hotel in the dataset, you can also calculate an average score (getting the average of all reviewer scores in the dataset for each hotel). Add a new column to your dataframe with the column header Calc_Average_Score that contains that calculated average.\n",
        "Do any hotels have the same (rounded to 1 decimal place) Average_Score and Calc_Average_Score?\n",
        "Try writing a Python function that takes a Series (row) as an argument and compares the values, printing out a message when the values are not equal. Then use the .apply() method to process every row with the function.\n",
        "Calculate and print out how many rows have column Negative_Review values of \"No Negative\"\n",
        "Calculate and print out how many rows have column Positive_Review values of \"No Positive\"\n",
        "Calculate and print out how many rows have column Positive_Review values of \"No Positive\" and Negative_Review values of \"No Negative\""
      ],
      "metadata": {
        "id": "UT_nj9d1xO68"
      }
    },
    {
      "cell_type": "markdown",
      "source": [
        "### Code answers\n",
        "Print out the shape of the data frame you have just loaded (the shape is the number of rows and columns)"
      ],
      "metadata": {
        "id": "ObPpjeY3xSVN"
      }
    },
    {
      "cell_type": "code",
      "source": [
        "print(\"The shape of the data (rows, cols) is \" + str(df.shape))"
      ],
      "metadata": {
        "colab": {
          "base_uri": "https://localhost:8080/"
        },
        "id": "hnHd0SQvxYJv",
        "outputId": "62b56522-e3d6-4276-f484-c28ceb689af2"
      },
      "execution_count": null,
      "outputs": [
        {
          "output_type": "stream",
          "name": "stdout",
          "text": [
            "The shape of the data (rows, cols) is (6385, 17)\n"
          ]
        }
      ]
    },
    {
      "cell_type": "markdown",
      "source": [
        "Calculate the frequency count for reviewer nationalities:\n",
        "\n",
        "How many distinct values are there for the column Reviewer_Nationality and what are they?\n",
        "What reviewer nationality is the most common in the dataset (print country and number of reviews)?"
      ],
      "metadata": {
        "id": "bq1-O-G2xqVr"
      }
    },
    {
      "cell_type": "code",
      "source": [
        "# value_counts() creates a Series object that has index and values in this case, the country and the frequency they occur in reviewer nationality\n",
        "nationality_freq = df[\"Reviewer_Nationality\"].value_counts()\n",
        "print(\"There are \" + str(nationality_freq.size) + \" different nationalities\")\n",
        "# print first and last rows of the Series. Change to nationality_freq.to_string() to print all of the data\n",
        "print(nationality_freq)"
      ],
      "metadata": {
        "colab": {
          "base_uri": "https://localhost:8080/"
        },
        "id": "oshbdC8GxvE9",
        "outputId": "8d0edf22-d302-4b35-e74f-df9bae3487bb"
      },
      "execution_count": null,
      "outputs": [
        {
          "output_type": "stream",
          "name": "stdout",
          "text": [
            "There are 105 different nationalities\n",
            " United Kingdom               3838\n",
            " United States of America      397\n",
            " Australia                     269\n",
            " Ireland                       214\n",
            " Canada                        110\n",
            "                              ... \n",
            " Rwanda                          1\n",
            " Montenegro                      1\n",
            " Serbia                          1\n",
            " Honduras                        1\n",
            " Maldives                        1\n",
            "Name: Reviewer_Nationality, Length: 105, dtype: int64\n"
          ]
        }
      ]
    },
    {
      "cell_type": "markdown",
      "source": [
        "What are the next top 10 most frequently found nationalities, and their frequency count?"
      ],
      "metadata": {
        "id": "Qh5qVxFCx9Hf"
      }
    },
    {
      "cell_type": "code",
      "source": [
        "print(\"The highest frequency reviewer nationality is \" + str(nationality_freq.index[0]).strip() + \" with \" + str(nationality_freq[0]) + \" reviews.\")\n",
        "# Notice there is a leading space on the values, strip() removes that for printing\n",
        "# What is the top 10 most common nationalities and their frequencies?\n",
        "print(\"The next 10 highest frequency reviewer nationalities are:\")\n",
        "print(nationality_freq[1:11].to_string())"
      ],
      "metadata": {
        "colab": {
          "base_uri": "https://localhost:8080/"
        },
        "id": "qmcOJ2Mux-4Y",
        "outputId": "d2b8427b-9ba0-4fe6-b56a-0ed67a9d80b0"
      },
      "execution_count": null,
      "outputs": [
        {
          "output_type": "stream",
          "name": "stdout",
          "text": [
            "The highest frequency reviewer nationality is United Kingdom with 3838 reviews.\n",
            "The next 10 highest frequency reviewer nationalities are:\n",
            " United States of America     397\n",
            " Australia                    269\n",
            " Ireland                      214\n",
            " Canada                       110\n",
            " United Arab Emirates          85\n",
            " Switzerland                   79\n",
            " Netherlands                   76\n",
            " Saudi Arabia                  66\n",
            " France                        66\n",
            " Germany                       61\n"
          ]
        }
      ]
    },
    {
      "cell_type": "markdown",
      "source": [
        "What was the most frequently reviewed hotel for each of the top 10 most reviewer nationalities?"
      ],
      "metadata": {
        "id": "llpSWFJZyHZJ"
      }
    },
    {
      "cell_type": "code",
      "source": [
        "# What was the most frequently reviewed hotel for the top 10 nationalities\n",
        "# Normally with pandas you will avoid an explicit loop, but wanted to show creating a new dataframe using criteria (don't do this with large amounts of data because it could be very slow)\n",
        "for nat in nationality_freq[:10].index:\n",
        "   # First, extract all the rows that match the criteria into a new dataframe\n",
        "   nat_df = df[df[\"Reviewer_Nationality\"] == nat]\n",
        "   # Now get the hotel freq\n",
        "   freq = nat_df[\"Hotel_Name\"].value_counts()\n",
        "   print(\"The most reviewed hotel for \" + str(nat).strip() + \" was \" + str(freq.index[0]) + \" with \" + str(freq[0]) + \" reviews.\")"
      ],
      "metadata": {
        "colab": {
          "base_uri": "https://localhost:8080/"
        },
        "id": "B0pZ2oFAyUes",
        "outputId": "8b7a0412-92fd-4b4a-8e01-cd4769cb4ba8"
      },
      "execution_count": null,
      "outputs": [
        {
          "output_type": "stream",
          "name": "stdout",
          "text": [
            "The most reviewed hotel for United Kingdom was The Park Grand London Paddington with 987 reviews.\n",
            "The most reviewed hotel for United States of America was The Park Grand London Paddington with 95 reviews.\n",
            "The most reviewed hotel for Australia was The Park Grand London Paddington with 84 reviews.\n",
            "The most reviewed hotel for Ireland was The Park Grand London Paddington with 64 reviews.\n",
            "The most reviewed hotel for Canada was The Park Grand London Paddington with 38 reviews.\n",
            "The most reviewed hotel for United Arab Emirates was The Park Grand London Paddington with 38 reviews.\n",
            "The most reviewed hotel for Switzerland was Apex Temple Court Hotel with 28 reviews.\n",
            "The most reviewed hotel for Netherlands was The Park Grand London Paddington with 18 reviews.\n",
            "The most reviewed hotel for Saudi Arabia was The Park Grand London Paddington with 30 reviews.\n",
            "The most reviewed hotel for France was The Principal London with 16 reviews.\n"
          ]
        }
      ]
    },
    {
      "cell_type": "markdown",
      "source": [
        "How many reviews are there per hotel (frequency count of hotel) in the dataset?"
      ],
      "metadata": {
        "id": "o4qvN-dnydhY"
      }
    },
    {
      "cell_type": "code",
      "source": [
        "# First create a new dataframe based on the old one, removing the uneeded columns\n",
        "hotel_freq_df = df.drop([\"Hotel_Address\", \"Additional_Number_of_Scoring\", \"Review_Date\", \"Average_Score\", \"Reviewer_Nationality\", \"Negative_Review\", \"Review_Total_Negative_Word_Counts\", \"Positive_Review\", \"Review_Total_Positive_Word_Counts\", \"Total_Number_of_Reviews_Reviewer_Has_Given\", \"Reviewer_Score\", \"Tags\", \"days_since_review\", \"lat\", \"lng\"], axis = 1)\n",
        "\n",
        "# Group the rows by Hotel_Name, count them and put the result in a new column Total_Reviews_Found\n",
        "hotel_freq_df['Total_Reviews_Found'] = hotel_freq_df.groupby('Hotel_Name').transform('count')\n",
        "\n",
        "# Get rid of all the duplicated rows\n",
        "hotel_freq_df = hotel_freq_df.drop_duplicates(subset = [\"Hotel_Name\"])\n",
        "display(hotel_freq_df)"
      ],
      "metadata": {
        "colab": {
          "base_uri": "https://localhost:8080/",
          "height": 332
        },
        "id": "_IJ8NuggyfG8",
        "outputId": "6253ee07-aaaa-4f9f-fefc-06ef76a06ca1"
      },
      "execution_count": null,
      "outputs": [
        {
          "output_type": "display_data",
          "data": {
            "text/plain": [
              "                            Hotel_Name  Total_Number_of_Reviews  \\\n",
              "0                          Hotel Arena                   1403.0   \n",
              "405                   K K Hotel George                   1831.0   \n",
              "971            Apex Temple Court Hotel                   2619.0   \n",
              "2008  The Park Grand London Paddington                   4380.0   \n",
              "3778               Monhotel Lounge SPA                    171.0   \n",
              "3813                Kube Hotel Ice Bar                    197.0   \n",
              "3832              The Principal London                   3150.0   \n",
              "5257     Park Plaza County Hall London                   6117.0   \n",
              "6384                               NaN                      NaN   \n",
              "\n",
              "      Total_Reviews_Found  \n",
              "0                   405.0  \n",
              "405                 566.0  \n",
              "971                1037.0  \n",
              "2008               1770.0  \n",
              "3778                 35.0  \n",
              "3813                 19.0  \n",
              "3832               1425.0  \n",
              "5257               1127.0  \n",
              "6384                  NaN  "
            ],
            "text/html": [
              "\n",
              "  <div id=\"df-13f40686-e89e-4fdf-a2d5-aaec1ecfb759\">\n",
              "    <div class=\"colab-df-container\">\n",
              "      <div>\n",
              "<style scoped>\n",
              "    .dataframe tbody tr th:only-of-type {\n",
              "        vertical-align: middle;\n",
              "    }\n",
              "\n",
              "    .dataframe tbody tr th {\n",
              "        vertical-align: top;\n",
              "    }\n",
              "\n",
              "    .dataframe thead th {\n",
              "        text-align: right;\n",
              "    }\n",
              "</style>\n",
              "<table border=\"1\" class=\"dataframe\">\n",
              "  <thead>\n",
              "    <tr style=\"text-align: right;\">\n",
              "      <th></th>\n",
              "      <th>Hotel_Name</th>\n",
              "      <th>Total_Number_of_Reviews</th>\n",
              "      <th>Total_Reviews_Found</th>\n",
              "    </tr>\n",
              "  </thead>\n",
              "  <tbody>\n",
              "    <tr>\n",
              "      <th>0</th>\n",
              "      <td>Hotel Arena</td>\n",
              "      <td>1403.0</td>\n",
              "      <td>405.0</td>\n",
              "    </tr>\n",
              "    <tr>\n",
              "      <th>405</th>\n",
              "      <td>K K Hotel George</td>\n",
              "      <td>1831.0</td>\n",
              "      <td>566.0</td>\n",
              "    </tr>\n",
              "    <tr>\n",
              "      <th>971</th>\n",
              "      <td>Apex Temple Court Hotel</td>\n",
              "      <td>2619.0</td>\n",
              "      <td>1037.0</td>\n",
              "    </tr>\n",
              "    <tr>\n",
              "      <th>2008</th>\n",
              "      <td>The Park Grand London Paddington</td>\n",
              "      <td>4380.0</td>\n",
              "      <td>1770.0</td>\n",
              "    </tr>\n",
              "    <tr>\n",
              "      <th>3778</th>\n",
              "      <td>Monhotel Lounge SPA</td>\n",
              "      <td>171.0</td>\n",
              "      <td>35.0</td>\n",
              "    </tr>\n",
              "    <tr>\n",
              "      <th>3813</th>\n",
              "      <td>Kube Hotel Ice Bar</td>\n",
              "      <td>197.0</td>\n",
              "      <td>19.0</td>\n",
              "    </tr>\n",
              "    <tr>\n",
              "      <th>3832</th>\n",
              "      <td>The Principal London</td>\n",
              "      <td>3150.0</td>\n",
              "      <td>1425.0</td>\n",
              "    </tr>\n",
              "    <tr>\n",
              "      <th>5257</th>\n",
              "      <td>Park Plaza County Hall London</td>\n",
              "      <td>6117.0</td>\n",
              "      <td>1127.0</td>\n",
              "    </tr>\n",
              "    <tr>\n",
              "      <th>6384</th>\n",
              "      <td>NaN</td>\n",
              "      <td>NaN</td>\n",
              "      <td>NaN</td>\n",
              "    </tr>\n",
              "  </tbody>\n",
              "</table>\n",
              "</div>\n",
              "      <button class=\"colab-df-convert\" onclick=\"convertToInteractive('df-13f40686-e89e-4fdf-a2d5-aaec1ecfb759')\"\n",
              "              title=\"Convert this dataframe to an interactive table.\"\n",
              "              style=\"display:none;\">\n",
              "        \n",
              "  <svg xmlns=\"http://www.w3.org/2000/svg\" height=\"24px\"viewBox=\"0 0 24 24\"\n",
              "       width=\"24px\">\n",
              "    <path d=\"M0 0h24v24H0V0z\" fill=\"none\"/>\n",
              "    <path d=\"M18.56 5.44l.94 2.06.94-2.06 2.06-.94-2.06-.94-.94-2.06-.94 2.06-2.06.94zm-11 1L8.5 8.5l.94-2.06 2.06-.94-2.06-.94L8.5 2.5l-.94 2.06-2.06.94zm10 10l.94 2.06.94-2.06 2.06-.94-2.06-.94-.94-2.06-.94 2.06-2.06.94z\"/><path d=\"M17.41 7.96l-1.37-1.37c-.4-.4-.92-.59-1.43-.59-.52 0-1.04.2-1.43.59L10.3 9.45l-7.72 7.72c-.78.78-.78 2.05 0 2.83L4 21.41c.39.39.9.59 1.41.59.51 0 1.02-.2 1.41-.59l7.78-7.78 2.81-2.81c.8-.78.8-2.07 0-2.86zM5.41 20L4 18.59l7.72-7.72 1.47 1.35L5.41 20z\"/>\n",
              "  </svg>\n",
              "      </button>\n",
              "      \n",
              "  <style>\n",
              "    .colab-df-container {\n",
              "      display:flex;\n",
              "      flex-wrap:wrap;\n",
              "      gap: 12px;\n",
              "    }\n",
              "\n",
              "    .colab-df-convert {\n",
              "      background-color: #E8F0FE;\n",
              "      border: none;\n",
              "      border-radius: 50%;\n",
              "      cursor: pointer;\n",
              "      display: none;\n",
              "      fill: #1967D2;\n",
              "      height: 32px;\n",
              "      padding: 0 0 0 0;\n",
              "      width: 32px;\n",
              "    }\n",
              "\n",
              "    .colab-df-convert:hover {\n",
              "      background-color: #E2EBFA;\n",
              "      box-shadow: 0px 1px 2px rgba(60, 64, 67, 0.3), 0px 1px 3px 1px rgba(60, 64, 67, 0.15);\n",
              "      fill: #174EA6;\n",
              "    }\n",
              "\n",
              "    [theme=dark] .colab-df-convert {\n",
              "      background-color: #3B4455;\n",
              "      fill: #D2E3FC;\n",
              "    }\n",
              "\n",
              "    [theme=dark] .colab-df-convert:hover {\n",
              "      background-color: #434B5C;\n",
              "      box-shadow: 0px 1px 3px 1px rgba(0, 0, 0, 0.15);\n",
              "      filter: drop-shadow(0px 1px 2px rgba(0, 0, 0, 0.3));\n",
              "      fill: #FFFFFF;\n",
              "    }\n",
              "  </style>\n",
              "\n",
              "      <script>\n",
              "        const buttonEl =\n",
              "          document.querySelector('#df-13f40686-e89e-4fdf-a2d5-aaec1ecfb759 button.colab-df-convert');\n",
              "        buttonEl.style.display =\n",
              "          google.colab.kernel.accessAllowed ? 'block' : 'none';\n",
              "\n",
              "        async function convertToInteractive(key) {\n",
              "          const element = document.querySelector('#df-13f40686-e89e-4fdf-a2d5-aaec1ecfb759');\n",
              "          const dataTable =\n",
              "            await google.colab.kernel.invokeFunction('convertToInteractive',\n",
              "                                                     [key], {});\n",
              "          if (!dataTable) return;\n",
              "\n",
              "          const docLinkHtml = 'Like what you see? Visit the ' +\n",
              "            '<a target=\"_blank\" href=https://colab.research.google.com/notebooks/data_table.ipynb>data table notebook</a>'\n",
              "            + ' to learn more about interactive tables.';\n",
              "          element.innerHTML = '';\n",
              "          dataTable['output_type'] = 'display_data';\n",
              "          await google.colab.output.renderOutput(dataTable, element);\n",
              "          const docLink = document.createElement('div');\n",
              "          docLink.innerHTML = docLinkHtml;\n",
              "          element.appendChild(docLink);\n",
              "        }\n",
              "      </script>\n",
              "    </div>\n",
              "  </div>\n",
              "  "
            ]
          },
          "metadata": {}
        }
      ]
    },
    {
      "cell_type": "markdown",
      "source": [
        "You may notice that the counted in the dataset results do not match the value in Total_Number_of_Reviews. It is unclear if this value in the dataset represented the total number of reviews the hotel had, but not all were scraped, or some other calculation. Total_Number_of_Reviews is not used in the model because of this unclarity.\n",
        "\n",
        "While there is an Average_Score column for each hotel in the dataset, you can also calculate an average score (getting the average of all reviewer scores in the dataset for each hotel). Add a new column to your dataframe with the column header Calc_Average_Score that contains that calculated average. Print out the columns Hotel_Name, Average_Score, and Calc_Average_Score."
      ],
      "metadata": {
        "id": "XGpDuZ3Ryp4s"
      }
    },
    {
      "cell_type": "code",
      "source": [
        "# define a function that takes a row and performs some calculation with it\n",
        "def get_difference_review_avg(row):\n",
        "  return row[\"Average_Score\"] - row[\"Calc_Average_Score\"]\n",
        "\n",
        "# 'mean' is mathematical word for 'average'\n",
        "df['Calc_Average_Score'] = round(df.groupby('Hotel_Name').Reviewer_Score.transform('mean'), 1)\n",
        "\n",
        "# Add a new column with the difference between the two average scores\n",
        "df[\"Average_Score_Difference\"] = df.apply(get_difference_review_avg, axis = 1)\n",
        "\n",
        "# Create a df without all the duplicates of Hotel_Name (so only 1 row per hotel)\n",
        "review_scores_df = df.drop_duplicates(subset = [\"Hotel_Name\"])\n",
        "\n",
        "# Sort the dataframe to find the lowest and highest average score difference\n",
        "review_scores_df = review_scores_df.sort_values(by=[\"Average_Score_Difference\"])\n",
        "\n",
        "display(review_scores_df[[\"Average_Score_Difference\", \"Average_Score\", \"Calc_Average_Score\", \"Hotel_Name\"]])"
      ],
      "metadata": {
        "colab": {
          "base_uri": "https://localhost:8080/",
          "height": 332
        },
        "id": "dFGX2v7ey6HO",
        "outputId": "9726b4d8-9220-49d0-9522-2dfc50c13679"
      },
      "execution_count": null,
      "outputs": [
        {
          "output_type": "display_data",
          "data": {
            "text/plain": [
              "      Average_Score_Difference  Average_Score  Calc_Average_Score  \\\n",
              "3778                      -0.4            8.4                 8.8   \n",
              "971                       -0.1            9.2                 9.3   \n",
              "0                         -0.1            7.7                 7.8   \n",
              "405                       -0.1            8.5                 8.6   \n",
              "2008                       0.0            7.7                 7.7   \n",
              "3832                       0.0            8.0                 8.0   \n",
              "5257                       0.2            8.4                 8.2   \n",
              "3813                       1.3            7.2                 5.9   \n",
              "6384                       NaN            NaN                 NaN   \n",
              "\n",
              "                            Hotel_Name  \n",
              "3778               Monhotel Lounge SPA  \n",
              "971            Apex Temple Court Hotel  \n",
              "0                          Hotel Arena  \n",
              "405                   K K Hotel George  \n",
              "2008  The Park Grand London Paddington  \n",
              "3832              The Principal London  \n",
              "5257     Park Plaza County Hall London  \n",
              "3813                Kube Hotel Ice Bar  \n",
              "6384                               NaN  "
            ],
            "text/html": [
              "\n",
              "  <div id=\"df-f2e3aa1d-0cfb-4efc-80bd-b73d05d73af7\">\n",
              "    <div class=\"colab-df-container\">\n",
              "      <div>\n",
              "<style scoped>\n",
              "    .dataframe tbody tr th:only-of-type {\n",
              "        vertical-align: middle;\n",
              "    }\n",
              "\n",
              "    .dataframe tbody tr th {\n",
              "        vertical-align: top;\n",
              "    }\n",
              "\n",
              "    .dataframe thead th {\n",
              "        text-align: right;\n",
              "    }\n",
              "</style>\n",
              "<table border=\"1\" class=\"dataframe\">\n",
              "  <thead>\n",
              "    <tr style=\"text-align: right;\">\n",
              "      <th></th>\n",
              "      <th>Average_Score_Difference</th>\n",
              "      <th>Average_Score</th>\n",
              "      <th>Calc_Average_Score</th>\n",
              "      <th>Hotel_Name</th>\n",
              "    </tr>\n",
              "  </thead>\n",
              "  <tbody>\n",
              "    <tr>\n",
              "      <th>3778</th>\n",
              "      <td>-0.4</td>\n",
              "      <td>8.4</td>\n",
              "      <td>8.8</td>\n",
              "      <td>Monhotel Lounge SPA</td>\n",
              "    </tr>\n",
              "    <tr>\n",
              "      <th>971</th>\n",
              "      <td>-0.1</td>\n",
              "      <td>9.2</td>\n",
              "      <td>9.3</td>\n",
              "      <td>Apex Temple Court Hotel</td>\n",
              "    </tr>\n",
              "    <tr>\n",
              "      <th>0</th>\n",
              "      <td>-0.1</td>\n",
              "      <td>7.7</td>\n",
              "      <td>7.8</td>\n",
              "      <td>Hotel Arena</td>\n",
              "    </tr>\n",
              "    <tr>\n",
              "      <th>405</th>\n",
              "      <td>-0.1</td>\n",
              "      <td>8.5</td>\n",
              "      <td>8.6</td>\n",
              "      <td>K K Hotel George</td>\n",
              "    </tr>\n",
              "    <tr>\n",
              "      <th>2008</th>\n",
              "      <td>0.0</td>\n",
              "      <td>7.7</td>\n",
              "      <td>7.7</td>\n",
              "      <td>The Park Grand London Paddington</td>\n",
              "    </tr>\n",
              "    <tr>\n",
              "      <th>3832</th>\n",
              "      <td>0.0</td>\n",
              "      <td>8.0</td>\n",
              "      <td>8.0</td>\n",
              "      <td>The Principal London</td>\n",
              "    </tr>\n",
              "    <tr>\n",
              "      <th>5257</th>\n",
              "      <td>0.2</td>\n",
              "      <td>8.4</td>\n",
              "      <td>8.2</td>\n",
              "      <td>Park Plaza County Hall London</td>\n",
              "    </tr>\n",
              "    <tr>\n",
              "      <th>3813</th>\n",
              "      <td>1.3</td>\n",
              "      <td>7.2</td>\n",
              "      <td>5.9</td>\n",
              "      <td>Kube Hotel Ice Bar</td>\n",
              "    </tr>\n",
              "    <tr>\n",
              "      <th>6384</th>\n",
              "      <td>NaN</td>\n",
              "      <td>NaN</td>\n",
              "      <td>NaN</td>\n",
              "      <td>NaN</td>\n",
              "    </tr>\n",
              "  </tbody>\n",
              "</table>\n",
              "</div>\n",
              "      <button class=\"colab-df-convert\" onclick=\"convertToInteractive('df-f2e3aa1d-0cfb-4efc-80bd-b73d05d73af7')\"\n",
              "              title=\"Convert this dataframe to an interactive table.\"\n",
              "              style=\"display:none;\">\n",
              "        \n",
              "  <svg xmlns=\"http://www.w3.org/2000/svg\" height=\"24px\"viewBox=\"0 0 24 24\"\n",
              "       width=\"24px\">\n",
              "    <path d=\"M0 0h24v24H0V0z\" fill=\"none\"/>\n",
              "    <path d=\"M18.56 5.44l.94 2.06.94-2.06 2.06-.94-2.06-.94-.94-2.06-.94 2.06-2.06.94zm-11 1L8.5 8.5l.94-2.06 2.06-.94-2.06-.94L8.5 2.5l-.94 2.06-2.06.94zm10 10l.94 2.06.94-2.06 2.06-.94-2.06-.94-.94-2.06-.94 2.06-2.06.94z\"/><path d=\"M17.41 7.96l-1.37-1.37c-.4-.4-.92-.59-1.43-.59-.52 0-1.04.2-1.43.59L10.3 9.45l-7.72 7.72c-.78.78-.78 2.05 0 2.83L4 21.41c.39.39.9.59 1.41.59.51 0 1.02-.2 1.41-.59l7.78-7.78 2.81-2.81c.8-.78.8-2.07 0-2.86zM5.41 20L4 18.59l7.72-7.72 1.47 1.35L5.41 20z\"/>\n",
              "  </svg>\n",
              "      </button>\n",
              "      \n",
              "  <style>\n",
              "    .colab-df-container {\n",
              "      display:flex;\n",
              "      flex-wrap:wrap;\n",
              "      gap: 12px;\n",
              "    }\n",
              "\n",
              "    .colab-df-convert {\n",
              "      background-color: #E8F0FE;\n",
              "      border: none;\n",
              "      border-radius: 50%;\n",
              "      cursor: pointer;\n",
              "      display: none;\n",
              "      fill: #1967D2;\n",
              "      height: 32px;\n",
              "      padding: 0 0 0 0;\n",
              "      width: 32px;\n",
              "    }\n",
              "\n",
              "    .colab-df-convert:hover {\n",
              "      background-color: #E2EBFA;\n",
              "      box-shadow: 0px 1px 2px rgba(60, 64, 67, 0.3), 0px 1px 3px 1px rgba(60, 64, 67, 0.15);\n",
              "      fill: #174EA6;\n",
              "    }\n",
              "\n",
              "    [theme=dark] .colab-df-convert {\n",
              "      background-color: #3B4455;\n",
              "      fill: #D2E3FC;\n",
              "    }\n",
              "\n",
              "    [theme=dark] .colab-df-convert:hover {\n",
              "      background-color: #434B5C;\n",
              "      box-shadow: 0px 1px 3px 1px rgba(0, 0, 0, 0.15);\n",
              "      filter: drop-shadow(0px 1px 2px rgba(0, 0, 0, 0.3));\n",
              "      fill: #FFFFFF;\n",
              "    }\n",
              "  </style>\n",
              "\n",
              "      <script>\n",
              "        const buttonEl =\n",
              "          document.querySelector('#df-f2e3aa1d-0cfb-4efc-80bd-b73d05d73af7 button.colab-df-convert');\n",
              "        buttonEl.style.display =\n",
              "          google.colab.kernel.accessAllowed ? 'block' : 'none';\n",
              "\n",
              "        async function convertToInteractive(key) {\n",
              "          const element = document.querySelector('#df-f2e3aa1d-0cfb-4efc-80bd-b73d05d73af7');\n",
              "          const dataTable =\n",
              "            await google.colab.kernel.invokeFunction('convertToInteractive',\n",
              "                                                     [key], {});\n",
              "          if (!dataTable) return;\n",
              "\n",
              "          const docLinkHtml = 'Like what you see? Visit the ' +\n",
              "            '<a target=\"_blank\" href=https://colab.research.google.com/notebooks/data_table.ipynb>data table notebook</a>'\n",
              "            + ' to learn more about interactive tables.';\n",
              "          element.innerHTML = '';\n",
              "          dataTable['output_type'] = 'display_data';\n",
              "          await google.colab.output.renderOutput(dataTable, element);\n",
              "          const docLink = document.createElement('div');\n",
              "          docLink.innerHTML = docLinkHtml;\n",
              "          element.appendChild(docLink);\n",
              "        }\n",
              "      </script>\n",
              "    </div>\n",
              "  </div>\n",
              "  "
            ]
          },
          "metadata": {}
        }
      ]
    },
    {
      "cell_type": "markdown",
      "source": [
        "You may also wonder about the Average_Score value and why it is sometimes different from the calculated average score. As we can't know why some of the values match, but others have a difference, it's safest in this case to use the review scores that we have to calculate the average ourselves. That said, the differences are usually very small, here are the hotels with the greatest deviation from the dataset average and the calculated average:"
      ],
      "metadata": {
        "id": "eZf3gVE7zMcE"
      }
    },
    {
      "cell_type": "markdown",
      "source": [
        "With only 1 hotel having a difference of score greater than 1, it means we can probably ignore the difference and use the calculated average score.\n",
        "\n",
        "Calculate and print out how many rows have column Negative_Review values of \"No Negative\"\n",
        "\n",
        "Calculate and print out how many rows have column Positive_Review values of \"No Positive\"\n",
        "\n",
        "Calculate and print out how many rows have column Positive_Review values of \"No Positive\" and Negative_Review values of \"No Negative\""
      ],
      "metadata": {
        "id": "RJYGFep-zhsR"
      }
    },
    {
      "cell_type": "code",
      "source": [
        "# with lambdas:\n",
        "start = time.time()\n",
        "no_negative_reviews = df.apply(lambda x: True if x['Negative_Review'] == \"No Negative\" else False , axis=1)\n",
        "print(\"Number of No Negative reviews: \" + str(len(no_negative_reviews[no_negative_reviews == True].index)))\n",
        "\n",
        "no_positive_reviews = df.apply(lambda x: True if x['Positive_Review'] == \"No Positive\" else False , axis=1)\n",
        "print(\"Number of No Positive reviews: \" + str(len(no_positive_reviews[no_positive_reviews == True].index)))\n",
        "\n",
        "both_no_reviews = df.apply(lambda x: True if x['Negative_Review'] == \"No Negative\" and x['Positive_Review'] == \"No Positive\" else False , axis=1)\n",
        "print(\"Number of both No Negative and No Positive reviews: \" + str(len(both_no_reviews[both_no_reviews == True].index)))\n",
        "end = time.time()\n",
        "print(\"Lambdas took \" + str(round(end - start, 2)) + \" seconds\")"
      ],
      "metadata": {
        "colab": {
          "base_uri": "https://localhost:8080/"
        },
        "id": "FoqUkh2lzv4a",
        "outputId": "257bd877-4113-4688-dfc3-4a244444a675"
      },
      "execution_count": null,
      "outputs": [
        {
          "output_type": "stream",
          "name": "stdout",
          "text": [
            "Number of No Negative reviews: 1451\n",
            "Number of No Positive reviews: 470\n",
            "Number of both No Negative and No Positive reviews: 1\n",
            "Lambdas took 0.14 seconds\n"
          ]
        }
      ]
    },
    {
      "cell_type": "markdown",
      "source": [
        "## Another way\n",
        "Another way count items without Lambdas, and use sum to count the rows:"
      ],
      "metadata": {
        "id": "PyzycjPNz9rg"
      }
    },
    {
      "cell_type": "code",
      "source": [
        "# without lambdas (using a mixture of notations to show you can use both)\n",
        "start = time.time()\n",
        "no_negative_reviews = sum(df.Negative_Review == \"No Negative\")\n",
        "print(\"Number of No Negative reviews: \" + str(no_negative_reviews))\n",
        "\n",
        "no_positive_reviews = sum(df[\"Positive_Review\"] == \"No Positive\")\n",
        "print(\"Number of No Positive reviews: \" + str(no_positive_reviews))\n",
        "\n",
        "both_no_reviews = sum((df.Negative_Review == \"No Negative\") & (df.Positive_Review == \"No Positive\"))\n",
        "print(\"Number of both No Negative and No Positive reviews: \" + str(both_no_reviews))\n",
        "\n",
        "end = time.time()\n",
        "print(\"Sum took \" + str(round(end - start, 2)) + \" seconds\")"
      ],
      "metadata": {
        "colab": {
          "base_uri": "https://localhost:8080/"
        },
        "id": "OQ_TOErq0ArF",
        "outputId": "d5f49ae9-289a-49a1-d47a-e43bea45dcfa"
      },
      "execution_count": null,
      "outputs": [
        {
          "output_type": "stream",
          "name": "stdout",
          "text": [
            "Number of No Negative reviews: 1451\n",
            "Number of No Positive reviews: 470\n",
            "Number of both No Negative and No Positive reviews: 1\n",
            "Sum took 0.02 seconds\n"
          ]
        }
      ]
    },
    {
      "cell_type": "markdown",
      "source": [
        "You may have noticed that there are 127 rows that have both \"No Negative\" and \"No Positive\" values for the columns Negative_Review and Positive_Review respectively. That means that the reviewer gave the hotel a numerical score, but declined to write either a positive or negative review. Luckily this is a small amount of rows (127 out of 515738, or 0.02%), so it probably won't skew our model or results in any particular direction, but you might not have expected a data set of reviews to have rows with no reviews, so it's worth exploring the data to discover rows like this.\n",
        "\n",
        "Now that you have explored the dataset, in the next lesson you will filter the data and add some sentiment analysis."
      ],
      "metadata": {
        "id": "lPxOzORV0ZaE"
      }
    }
  ]
}