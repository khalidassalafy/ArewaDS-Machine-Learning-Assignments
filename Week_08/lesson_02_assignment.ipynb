{
  "nbformat": 4,
  "nbformat_minor": 0,
  "metadata": {
    "colab": {
      "provenance": []
    },
    "kernelspec": {
      "name": "python3",
      "display_name": "Python 3"
    },
    "language_info": {
      "name": "python"
    }
  },
  "cells": [
    {
      "cell_type": "markdown",
      "source": [
        "# Lesson 2 Assignment: NLTK\n",
        "NLTK is a well-known library for use in computational linguistics and NLP. Take this opportunity to read through the 'NLTK book' and try out its exercises. In this ungraded assignment, you will get to know this library more deeply."
      ],
      "metadata": {
        "id": "NaVu3eZ82P8I"
      }
    }
  ]
}