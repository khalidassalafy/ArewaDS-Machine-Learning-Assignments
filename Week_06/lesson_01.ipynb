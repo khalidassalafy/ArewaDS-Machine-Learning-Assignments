{
 "cells": [
  {
   "attachments": {},
   "cell_type": "markdown",
   "metadata": {},
   "source": [
    "# Lesson 1: Introduction to Clustering"
   ]
  },
  {
   "attachments": {},
   "cell_type": "markdown",
   "metadata": {},
   "source": [
    "Clustering is a type of Unsupervised Learning that presumes that a dataset is unlabelled or that its inputs are not matched with predefined outputs. It uses various algorithms to sort through unlabeled data and provide groupings according to patterns it discerns in the data."
   ]
  },
  {
   "attachments": {},
   "cell_type": "markdown",
   "metadata": {},
   "source": [
    "Introduction\n",
    "Clustering is very useful for data exploration. Let's see if it can help discover trends and patterns in the way Nigerian audiences consume music.\n",
    "\n",
    "✅ Take a minute to think about the uses of clustering. In real life, clustering happens whenever you have a pile of laundry and need to sort out your family members' clothes 🧦👕👖🩲. In data science, clustering happens when trying to analyze a user's preferences, or determine the characteristics of any unlabeled dataset. Clustering, in a way, helps make sense of chaos, like a sock drawer."
   ]
  },
  {
   "attachments": {},
   "cell_type": "markdown",
   "metadata": {},
   "source": [
    "In a professional setting, clustering can be used to determine things like market segmentation, determining what age groups buy what items, for example. Another use would be anomaly detection, perhaps to detect fraud from a dataset of credit card transactions. Or you might use clustering to determine tumors in a batch of medical scans.\n",
    "\n",
    "✅ Think a minute about how you might have encountered clustering 'in the wild', in a banking, e-commerce, or business setting.\n",
    "\n",
    "🎓 Interestingly, cluster analysis originated in the fields of Anthropology and Psychology in the 1930s. Can you imagine how it might have been used?\n",
    "\n",
    "Alternately, you could use it for grouping search results - by shopping links, images, or reviews, for example. Clustering is useful when you have a large dataset that you want to reduce and on which you want to perform more granular analysis, so the technique can be used to learn about data before other models are constructed."
   ]
  },
  {
   "attachments": {},
   "cell_type": "markdown",
   "metadata": {},
   "source": [
    "✅ Once your data is organized in clusters, you assign it a cluster Id, and this technique can be useful when preserving a dataset's privacy; you can instead refer to a data point by its cluster id, rather than by more revealing identifiable data. Can you think of other reasons why you'd refer to a cluster Id rather than other elements of the cluster to identify it?\n",
    "\n",
    "Deepen your understanding of clustering techniques!"
   ]
  },
  {
   "attachments": {},
   "cell_type": "markdown",
   "metadata": {},
   "source": [
    "Getting started with clustering\n",
    "Scikit-learn offers a large array of methods to perform clustering. The type you choose will depend on your use case. According to the documentation, each method has various benefits. Here is a simplified table of the methods supported by Scikit-learn and their appropriate use cases:"
   ]
  },
  {
   "attachments": {},
   "cell_type": "markdown",
   "metadata": {},
   "source": [
    "Method name and\tUse case:\n",
    "1. K-Means:\tgeneral purpose, inductive\n",
    "2. Affinity propagation:\tmany, uneven clusters, inductive\n",
    "3. Mean-shift:\tmany, uneven clusters, inductive\n",
    "4. Spectral clustering:\tfew, even clusters, transductive\n",
    "5. Ward hierarchical clustering:\tmany, constrained clusters, transductive\n",
    "6. Agglomerative clustering:\tmany, constrained, non Euclidean distances, transductive\n",
    "7. DBSCAN:\tnon-flat geometry, uneven clusters, transductive\n",
    "8. OPTICS:\tnon-flat geometry, uneven clusters with variable density, transductive\n",
    "4. Gaussian mixtures:\tflat geometry, inductive\n",
    "5. BIRCH:\tlarge dataset with outliers, inductive"
   ]
  },
  {
   "attachments": {},
   "cell_type": "markdown",
   "metadata": {},
   "source": [
    "🎓 How we create clusters has a lot to do with how we gather up the data points into groups. Let's unpack some vocabulary:"
   ]
  }
 ],
 "metadata": {
  "kernelspec": {
   "display_name": "ADS_env",
   "language": "python",
   "name": "python3"
  },
  "language_info": {
   "name": "python",
   "version": "3.11.3"
  },
  "orig_nbformat": 4
 },
 "nbformat": 4,
 "nbformat_minor": 2
}
