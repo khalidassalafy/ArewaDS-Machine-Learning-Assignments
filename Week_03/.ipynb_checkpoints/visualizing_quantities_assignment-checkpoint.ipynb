{
 "cells": [
  {
   "cell_type": "markdown",
   "id": "a7efcef1",
   "metadata": {},
   "source": [
    "# Uncovering Information about Snow Geese"
   ]
  },
  {
   "cell_type": "markdown",
   "id": "5864275a",
   "metadata": {},
   "source": [
    "## Instructions\n",
    "In this lesson, you worked with line charts, scatterplots, and bar charts to show interesting facts about this dataset. In this assignment, dig deeper into the dataset to discover a fact about a given type of bird. For example, create a notebook visualizing all the interesting data you can uncover about Snow Geese. Use the three plots mentioned above to tell a story in your notebook."
   ]
  },
  {
   "cell_type": "markdown",
   "id": "8d08abed",
   "metadata": {},
   "source": [
    "## Reading the Dataset and Visualizing First Few Rows"
   ]
  },
  {
   "cell_type": "markdown",
   "id": "68441ccf",
   "metadata": {},
   "source": [
    "We first read the birds dataset and store it in pandas dataframe"
   ]
  },
  {
   "cell_type": "code",
   "execution_count": 1,
   "id": "e9065c1d",
   "metadata": {},
   "outputs": [
    {
     "data": {
      "text/html": [
       "<div>\n",
       "<style scoped>\n",
       "    .dataframe tbody tr th:only-of-type {\n",
       "        vertical-align: middle;\n",
       "    }\n",
       "\n",
       "    .dataframe tbody tr th {\n",
       "        vertical-align: top;\n",
       "    }\n",
       "\n",
       "    .dataframe thead th {\n",
       "        text-align: right;\n",
       "    }\n",
       "</style>\n",
       "<table border=\"1\" class=\"dataframe\">\n",
       "  <thead>\n",
       "    <tr style=\"text-align: right;\">\n",
       "      <th></th>\n",
       "      <th>Name</th>\n",
       "      <th>ScientificName</th>\n",
       "      <th>Category</th>\n",
       "      <th>Order</th>\n",
       "      <th>Family</th>\n",
       "      <th>Genus</th>\n",
       "      <th>ConservationStatus</th>\n",
       "      <th>MinLength</th>\n",
       "      <th>MaxLength</th>\n",
       "      <th>MinBodyMass</th>\n",
       "      <th>MaxBodyMass</th>\n",
       "      <th>MinWingspan</th>\n",
       "      <th>MaxWingspan</th>\n",
       "    </tr>\n",
       "  </thead>\n",
       "  <tbody>\n",
       "    <tr>\n",
       "      <th>0</th>\n",
       "      <td>Black-bellied whistling-duck</td>\n",
       "      <td>Dendrocygna autumnalis</td>\n",
       "      <td>Ducks/Geese/Waterfowl</td>\n",
       "      <td>Anseriformes</td>\n",
       "      <td>Anatidae</td>\n",
       "      <td>Dendrocygna</td>\n",
       "      <td>LC</td>\n",
       "      <td>47.0</td>\n",
       "      <td>56.0</td>\n",
       "      <td>652.0</td>\n",
       "      <td>1020.0</td>\n",
       "      <td>76.0</td>\n",
       "      <td>94.0</td>\n",
       "    </tr>\n",
       "    <tr>\n",
       "      <th>1</th>\n",
       "      <td>Fulvous whistling-duck</td>\n",
       "      <td>Dendrocygna bicolor</td>\n",
       "      <td>Ducks/Geese/Waterfowl</td>\n",
       "      <td>Anseriformes</td>\n",
       "      <td>Anatidae</td>\n",
       "      <td>Dendrocygna</td>\n",
       "      <td>LC</td>\n",
       "      <td>45.0</td>\n",
       "      <td>53.0</td>\n",
       "      <td>712.0</td>\n",
       "      <td>1050.0</td>\n",
       "      <td>85.0</td>\n",
       "      <td>93.0</td>\n",
       "    </tr>\n",
       "    <tr>\n",
       "      <th>2</th>\n",
       "      <td>Snow goose</td>\n",
       "      <td>Anser caerulescens</td>\n",
       "      <td>Ducks/Geese/Waterfowl</td>\n",
       "      <td>Anseriformes</td>\n",
       "      <td>Anatidae</td>\n",
       "      <td>Anser</td>\n",
       "      <td>LC</td>\n",
       "      <td>64.0</td>\n",
       "      <td>79.0</td>\n",
       "      <td>2050.0</td>\n",
       "      <td>4050.0</td>\n",
       "      <td>135.0</td>\n",
       "      <td>165.0</td>\n",
       "    </tr>\n",
       "    <tr>\n",
       "      <th>3</th>\n",
       "      <td>Ross's goose</td>\n",
       "      <td>Anser rossii</td>\n",
       "      <td>Ducks/Geese/Waterfowl</td>\n",
       "      <td>Anseriformes</td>\n",
       "      <td>Anatidae</td>\n",
       "      <td>Anser</td>\n",
       "      <td>LC</td>\n",
       "      <td>57.3</td>\n",
       "      <td>64.0</td>\n",
       "      <td>1066.0</td>\n",
       "      <td>1567.0</td>\n",
       "      <td>113.0</td>\n",
       "      <td>116.0</td>\n",
       "    </tr>\n",
       "    <tr>\n",
       "      <th>4</th>\n",
       "      <td>Greater white-fronted goose</td>\n",
       "      <td>Anser albifrons</td>\n",
       "      <td>Ducks/Geese/Waterfowl</td>\n",
       "      <td>Anseriformes</td>\n",
       "      <td>Anatidae</td>\n",
       "      <td>Anser</td>\n",
       "      <td>LC</td>\n",
       "      <td>64.0</td>\n",
       "      <td>81.0</td>\n",
       "      <td>1930.0</td>\n",
       "      <td>3310.0</td>\n",
       "      <td>130.0</td>\n",
       "      <td>165.0</td>\n",
       "    </tr>\n",
       "  </tbody>\n",
       "</table>\n",
       "</div>"
      ],
      "text/plain": [
       "                           Name          ScientificName  \\\n",
       "0  Black-bellied whistling-duck  Dendrocygna autumnalis   \n",
       "1        Fulvous whistling-duck     Dendrocygna bicolor   \n",
       "2                    Snow goose      Anser caerulescens   \n",
       "3                  Ross's goose            Anser rossii   \n",
       "4   Greater white-fronted goose         Anser albifrons   \n",
       "\n",
       "                Category         Order    Family        Genus  \\\n",
       "0  Ducks/Geese/Waterfowl  Anseriformes  Anatidae  Dendrocygna   \n",
       "1  Ducks/Geese/Waterfowl  Anseriformes  Anatidae  Dendrocygna   \n",
       "2  Ducks/Geese/Waterfowl  Anseriformes  Anatidae        Anser   \n",
       "3  Ducks/Geese/Waterfowl  Anseriformes  Anatidae        Anser   \n",
       "4  Ducks/Geese/Waterfowl  Anseriformes  Anatidae        Anser   \n",
       "\n",
       "  ConservationStatus  MinLength  MaxLength  MinBodyMass  MaxBodyMass  \\\n",
       "0                 LC       47.0       56.0        652.0       1020.0   \n",
       "1                 LC       45.0       53.0        712.0       1050.0   \n",
       "2                 LC       64.0       79.0       2050.0       4050.0   \n",
       "3                 LC       57.3       64.0       1066.0       1567.0   \n",
       "4                 LC       64.0       81.0       1930.0       3310.0   \n",
       "\n",
       "   MinWingspan  MaxWingspan  \n",
       "0         76.0         94.0  \n",
       "1         85.0         93.0  \n",
       "2        135.0        165.0  \n",
       "3        113.0        116.0  \n",
       "4        130.0        165.0  "
      ]
     },
     "execution_count": 1,
     "metadata": {},
     "output_type": "execute_result"
    }
   ],
   "source": [
    "import pandas as pd\n",
    "import matplotlib.pyplot as plt\n",
    "birds = pd.read_csv('birds.csv')\n",
    "birds.head()"
   ]
  },
  {
   "cell_type": "markdown",
   "id": "a7805af0",
   "metadata": {},
   "source": [
    "## Ploting how many number of snow goose is in the data usin bar chart"
   ]
  },
  {
   "cell_type": "code",
   "execution_count": 6,
   "id": "291b6f63",
   "metadata": {},
   "outputs": [],
   "source": [
    "\n",
    "# Count the number of times 'Snow_goose' appears in the 'Name' column\n",
    "snow_geese_count = (birds['Name'] == 'Snow goose').sum()\n",
    "\n"
   ]
  },
  {
   "cell_type": "code",
   "execution_count": 7,
   "id": "67b35646",
   "metadata": {},
   "outputs": [
    {
     "data": {
      "text/plain": [
       "<BarContainer object of 1 artists>"
      ]
     },
     "execution_count": 7,
     "metadata": {},
     "output_type": "execute_result"
    },
    {
     "data": {
      "image/png": "[encoded data removed]",
      "text/plain": [
       "<Figure size 640x480 with 1 Axes>"
      ]
     },
     "metadata": {},
     "output_type": "display_data"
    }
   ],
   "source": [
    "# Create a bar chart to visualize the count\n",
    "plt.bar('Snow geese', snow_geese_count)\n",
    "\n"
   ]
  },
  {
   "cell_type": "code",
   "execution_count": 8,
   "id": "f2b8c246",
   "metadata": {},
   "outputs": [
    {
     "data": {
      "image/png": "[encoded data removed]",
      "text/plain": [
       "<Figure size 640x480 with 1 Axes>"
      ]
     },
     "metadata": {},
     "output_type": "display_data"
    }
   ],
   "source": [
    "# Add labels to the chart\n",
    "plt.title('Number of times Snow_goose appears in the DataFrame')\n",
    "plt.xlabel('Name')\n",
    "plt.ylabel('Count')\n",
    "\n",
    "# Show the chart\n",
    "plt.show()"
   ]
  },
  {
   "cell_type": "markdown",
   "id": "146a90d7",
   "metadata": {},
   "source": [
    "## Visualizing the Relationship between the MinLength and MaxLength of Snow geese using scater plots"
   ]
  },
  {
   "cell_type": "code",
   "execution_count": 13,
   "id": "646869e7",
   "metadata": {},
   "outputs": [
    {
     "data": {
      "text/html": [
       "<div>\n",
       "<style scoped>\n",
       "    .dataframe tbody tr th:only-of-type {\n",
       "        vertical-align: middle;\n",
       "    }\n",
       "\n",
       "    .dataframe tbody tr th {\n",
       "        vertical-align: top;\n",
       "    }\n",
       "\n",
       "    .dataframe thead th {\n",
       "        text-align: right;\n",
       "    }\n",
       "</style>\n",
       "<table border=\"1\" class=\"dataframe\">\n",
       "  <thead>\n",
       "    <tr style=\"text-align: right;\">\n",
       "      <th></th>\n",
       "      <th>Name</th>\n",
       "      <th>ScientificName</th>\n",
       "      <th>Category</th>\n",
       "      <th>Order</th>\n",
       "      <th>Family</th>\n",
       "      <th>Genus</th>\n",
       "      <th>ConservationStatus</th>\n",
       "      <th>MinLength</th>\n",
       "      <th>MaxLength</th>\n",
       "      <th>MinBodyMass</th>\n",
       "      <th>MaxBodyMass</th>\n",
       "      <th>MinWingspan</th>\n",
       "      <th>MaxWingspan</th>\n",
       "    </tr>\n",
       "  </thead>\n",
       "  <tbody>\n",
       "    <tr>\n",
       "      <th>2</th>\n",
       "      <td>Snow goose</td>\n",
       "      <td>Anser caerulescens</td>\n",
       "      <td>Ducks/Geese/Waterfowl</td>\n",
       "      <td>Anseriformes</td>\n",
       "      <td>Anatidae</td>\n",
       "      <td>Anser</td>\n",
       "      <td>LC</td>\n",
       "      <td>64.0</td>\n",
       "      <td>79.0</td>\n",
       "      <td>2050.0</td>\n",
       "      <td>4050.0</td>\n",
       "      <td>135.0</td>\n",
       "      <td>165.0</td>\n",
       "    </tr>\n",
       "  </tbody>\n",
       "</table>\n",
       "</div>"
      ],
      "text/plain": [
       "         Name      ScientificName               Category         Order  \\\n",
       "2  Snow goose  Anser caerulescens  Ducks/Geese/Waterfowl  Anseriformes   \n",
       "\n",
       "     Family  Genus ConservationStatus  MinLength  MaxLength  MinBodyMass  \\\n",
       "2  Anatidae  Anser                 LC       64.0       79.0       2050.0   \n",
       "\n",
       "   MaxBodyMass  MinWingspan  MaxWingspan  \n",
       "2       4050.0        135.0        165.0  "
      ]
     },
     "execution_count": 13,
     "metadata": {},
     "output_type": "execute_result"
    }
   ],
   "source": [
    "\n",
    "\n",
    "# Filter the DataFrame to include only records for Snow goose\n",
    "snow_goose_df = birds[birds['Name'] == 'Snow goose']\n",
    "snow_goose_df.head()\n",
    "\n",
    "\n"
   ]
  },
  {
   "cell_type": "code",
   "execution_count": 14,
   "id": "5dab1c6a",
   "metadata": {},
   "outputs": [
    {
     "data": {
      "image/png": "[encoded data removed]",
      "text/plain": [
       "<Figure size 640x480 with 1 Axes>"
      ]
     },
     "metadata": {},
     "output_type": "display_data"
    }
   ],
   "source": [
    "# Create a scatter plot to visualize the relationship between Minlength and Maxlength\n",
    "plt.scatter(snow_goose_df['MinLength'], snow_goose_df['MaxLength'])\n",
    "\n",
    "# Add labels to the chart\n",
    "plt.title('Relationship between Minlength and Maxlength for Snow goose in Minnesota')\n",
    "plt.xlabel('Minlength')\n",
    "plt.ylabel('Maxlength')\n",
    "\n",
    "# Show the chart\n",
    "plt.show()"
   ]
  },
  {
   "cell_type": "code",
   "execution_count": null,
   "id": "fb576093",
   "metadata": {},
   "outputs": [],
   "source": []
  }
 ],
 "metadata": {
  "kernelspec": {
   "display_name": "Python 3 (ipykernel)",
   "language": "python",
   "name": "python3"
  },
  "language_info": {
   "codemirror_mode": {
    "name": "ipython",
    "version": 3
   },
   "file_extension": ".py",
   "mimetype": "text/x-python",
   "name": "python",
   "nbconvert_exporter": "python",
   "pygments_lexer": "ipython3",
   "version": "3.11.2"
  }
 },
 "nbformat": 4,
 "nbformat_minor": 5
}
