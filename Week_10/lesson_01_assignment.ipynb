{
 "cells": [
  {
   "cell_type": "markdown",
   "metadata": {},
   "source": [
    "# Lesson 1 Assignment: A More Realistic World"
   ]
  },
  {
   "cell_type": "markdown",
   "metadata": {},
   "source": [
    "In our situation, Peter was able to move around almost without getting tired or hungry. In a more realistic world, we has to sit down and rest from time to time, and also to feed himself. Let's make our world more realistic, by implementing the following rules:\n",
    "\n",
    "By moving from one place to another, Peter loses energy and gains some fatigue.\n",
    "\n",
    "Peter can gain more energy by eating apples.\n",
    "\n",
    "Peter can get rid of fatigue by resting under the tree or on the grass (i.e. walking into a board location with a tree or grass - green field)\n",
    "\n",
    "Peter needs to find and kill the wolf\n",
    "\n",
    "In order to kill the wolf, Peter needs to have certain levels of energy and fatigue, otherwise he loses the battle."
   ]
  }
 ],
 "metadata": {
  "language_info": {
   "name": "python"
  },
  "orig_nbformat": 4
 },
 "nbformat": 4,
 "nbformat_minor": 2
}
