{
 "cells": [
  {
   "cell_type": "markdown",
   "id": "d28c8817",
   "metadata": {},
   "source": [
    "# Assignment\n",
    "### Data Preparation"
   ]
  },
  {
   "cell_type": "markdown",
   "id": "29a96716",
   "metadata": {},
   "source": [
    "My recommendations about the form so it captures accurate and consistent information:\n",
    "    1. The entries in the 'birth_month' column are in diffrent format. They need to be converted into thesame format.\n",
    "    2. The entries in the 'state' column are also of diffrent formats. They also need to be converted into thesame format.\n",
    "    3. The missing values in the 'state' column need to be handled."
   ]
  },
  {
   "cell_type": "code",
   "execution_count": null,
   "id": "c1b740b9",
   "metadata": {},
   "outputs": [],
   "source": []
  }
 ],
 "metadata": {
  "kernelspec": {
   "display_name": "Python 3 (ipykernel)",
   "language": "python",
   "name": "python3"
  },
  "language_info": {
   "codemirror_mode": {
    "name": "ipython",
    "version": 3
   },
   "file_extension": ".py",
   "mimetype": "text/x-python",
   "name": "python",
   "nbconvert_exporter": "python",
   "pygments_lexer": "ipython3",
   "version": "3.11.2"
  }
 },
 "nbformat": 4,
 "nbformat_minor": 5
}
