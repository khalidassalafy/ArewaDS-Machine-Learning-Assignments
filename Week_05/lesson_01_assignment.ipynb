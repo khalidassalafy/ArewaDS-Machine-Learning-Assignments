{
 "cells": [
  {
   "attachments": {},
   "cell_type": "markdown",
   "metadata": {},
   "source": [
    "# Lesson 1 Assignment: Explore classification methods\n"
   ]
  },
  {
   "attachments": {},
   "cell_type": "markdown",
   "metadata": {},
   "source": [
    "In Scikit-learn documentation you'll find a large list of ways to classify data. Do a little scavenger hunt in these docs: your goals is to look for classification methods and match a dataset in this curriculum, a question you can ask of it, and a technique of classification. Create a spreadsheet or table in a .doc file and explain how the dataset would work with the classification algorithm."
   ]
  },
  {
   "attachments": {},
   "cell_type": "markdown",
   "metadata": {},
   "source": [
    "# Classification Methods"
   ]
  },
  {
   "attachments": {},
   "cell_type": "markdown",
   "metadata": {},
   "source": [
    "## 1. Support Vector Machines (SVMs)"
   ]
  },
  {
   "attachments": {},
   "cell_type": "markdown",
   "metadata": {},
   "source": [
    "Support vector machines (SVMs) are a set of supervised learning methods used for classification, regression and outliers detection. They are named as such because, they use a subset of training points in the decision function (called support vectors), so they are memory efficient."
   ]
  },
  {
   "attachments": {},
   "cell_type": "markdown",
   "metadata": {},
   "source": [
    "SVMs are Effective in high dimensional spaces, and even in cases where number of dimensions is greater than the number of samples. However, If the number of features is much greater than the number of samples, avoiding over-fitting in choosing Kernel functions and regularization term is crucial."
   ]
  },
  {
   "attachments": {},
   "cell_type": "markdown",
   "metadata": {},
   "source": [
    "There are three types of SVMs namely: SVC, NuSVC and LinearSVC. All these classes are  capable of performing binary and multi-class classification on a dataset."
   ]
  },
  {
   "attachments": {},
   "cell_type": "markdown",
   "metadata": {},
   "source": [
    "##### LinearSVC\n",
    " This can be used with the pumpkin dataset to predict wether a given pumpkin is orange or not (binary classification). This is because there is some level of linear relationship between the color feature and other features in the dataset, and LinearSVC uses linear kernel to make decision."
   ]
  },
  {
   "attachments": {},
   "cell_type": "markdown",
   "metadata": {},
   "source": [
    "##### SVC and NuSVC\n",
    "These classes of SVMs implement the \"one-versus-one\" approach for multiclass classification. So any of the two can be applied on the cuisine dataset to predict the type of cuisine (multiclass classification) given set of ingridients"
   ]
  }
 ],
 "metadata": {
  "kernelspec": {
   "display_name": "ADS_env",
   "language": "python",
   "name": "python3"
  },
  "language_info": {
   "name": "python",
   "version": "3.11.3"
  },
  "orig_nbformat": 4
 },
 "nbformat": 4,
 "nbformat_minor": 2
}
