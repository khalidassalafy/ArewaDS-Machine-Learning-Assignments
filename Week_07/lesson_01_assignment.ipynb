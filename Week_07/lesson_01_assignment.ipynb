{
 "cells": [
  {
   "attachments": {},
   "cell_type": "markdown",
   "metadata": {},
   "source": [
    "# Lesson 1 Assignment: Search for a bot\n",
    "Bots are everywhere. Your assignment: find one and adopt it! You can find them on web sites, in banking applications, and on the phone, for example when you call financial services companies for advice or account information. Analyze the bot and see if you can confuse it. If you can confuse the bot, why do you think that happened? Write a short paper about your experience."
   ]
  },
  {
   "attachments": {},
   "cell_type": "markdown",
   "metadata": {},
   "source": [
    "# Kuki Chartbot"
   ]
  },
  {
   "attachments": {},
   "cell_type": "markdown",
   "metadata": {},
   "source": [
    "Kuki is an embodied AI bot designed to befriend humans. Formerly known as Mitsuku, Kuki was created from Pandorabots AIML technology by Steve Worswick.\n",
    "\n",
    "It is a five-time winner of a Turing Test competition called the Loebner Prize (in 2013, 2016, 2017, 2018, and 2019), for which it holds a world record.\n",
    "\n",
    "Kuki is available to chat via an online portal, and on Facebook Messenger, Twitch group chat, Telegram, Kik Messenger, Discord, and was available on Skype, but was removed by its developer. The AI also has accounts on Instagram, TikTok, YouTube, and Twitter, as well as a game on Roblox."
   ]
  },
  {
   "attachments": {},
   "cell_type": "markdown",
   "metadata": {},
   "source": [
    "# My Experience with Kuki Bot"
   ]
  },
  {
   "attachments": {},
   "cell_type": "markdown",
   "metadata": {},
   "source": [
    "I conversed with kuki to know the level of its intelligence on which it got confused many times. Some times it responds randomly, sometimes absolutely wrong and sometimes it does'nt know. The weakness can be seen in the screenshot below:"
   ]
  },
  {
   "attachments": {},
   "cell_type": "markdown",
   "metadata": {},
   "source": [
    "1. Wrong anwser: I asked who won the recent Nigeria's presidential election, and the response was: \"Joe Biden\". This is absolutely wrong!"
   ]
  },
  {
   "attachments": {},
   "cell_type": "markdown",
   "metadata": {},
   "source": [
    "![Screenshot (5).png](<attachment:Screenshot (5).png>)"
   ]
  },
  {
   "attachments": {},
   "cell_type": "markdown",
   "metadata": {},
   "source": [
    "2. Random response: I asked: \" Do you know Hausa Language\". And the response was: \"Well, I prefer relaxing in a hot tub of oil....\""
   ]
  },
  {
   "attachments": {},
   "cell_type": "markdown",
   "metadata": {},
   "source": [
    "![Screenshot (6).png](<attachment:Screenshot (6).png>)"
   ]
  },
  {
   "attachments": {},
   "cell_type": "markdown",
   "metadata": {},
   "source": [
    "3. Can't differentiate between nouns and pronouns: It asked me about my self, I said I'm a data scientist. It then asked my current research, and I replied: \"Why does it interest you to know that?\". It then  replied awkwardly: \"I don't know. Why don't you asked 'it'?\". You can hear how awkward the response is."
   ]
  },
  {
   "attachments": {},
   "cell_type": "markdown",
   "metadata": {},
   "source": [
    "![Screenshot (4).png](<attachment:Screenshot (4).png>)"
   ]
  },
  {
   "attachments": {},
   "cell_type": "markdown",
   "metadata": {},
   "source": [
    "# Possible solutions"
   ]
  },
  {
   "attachments": {},
   "cell_type": "markdown",
   "metadata": {},
   "source": [
    "The above problems can be solved through the following ways:"
   ]
  },
  {
   "attachments": {},
   "cell_type": "markdown",
   "metadata": {},
   "source": [
    "1.Training kuki extensively to differentiate between nouns and pronouns."
   ]
  },
  {
   "attachments": {},
   "cell_type": "markdown",
   "metadata": {},
   "source": [
    "2. Training it with general data from different domains, across different part of the world (not just USA or Europe)."
   ]
  },
  {
   "attachments": {},
   "cell_type": "markdown",
   "metadata": {},
   "source": [
    "3. Making it to understand and respond based on context."
   ]
  }
 ],
 "metadata": {
  "kernelspec": {
   "display_name": "ADS_env",
   "language": "python",
   "name": "python3"
  },
  "language_info": {
   "name": "python",
   "version": "3.11.3"
  },
  "orig_nbformat": 4
 },
 "nbformat": 4,
 "nbformat_minor": 2
}
