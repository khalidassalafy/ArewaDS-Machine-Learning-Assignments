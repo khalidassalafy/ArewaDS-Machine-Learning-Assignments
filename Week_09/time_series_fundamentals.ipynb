{
  "nbformat": 4,
  "nbformat_minor": 0,
  "metadata": {
    "colab": {
      "provenance": []
    },
    "kernelspec": {
      "name": "python3",
      "display_name": "Python 3"
    },
    "language_info": {
      "name": "python"
    }
  },
  "cells": [
    {
      "cell_type": "markdown",
      "source": [
        "# Time Series Forecasting: Fundamentals and Data Exploration"
      ],
      "metadata": {
        "id": "XZnlnH0urHYb"
      }
    },
    {
      "cell_type": "markdown",
      "source": [
        "## Introduction\n",
        "Time series forecasting is an important area of machine learning that is often neglected. It is important because there are so many prediction problems that involve a time component. Some of the time series problems include the following:\n",
        "1. Forecasting the corn yield in tons by state each year.\n",
        "2. Forecasting whether an EEG trace in seconds indicates a patient is having a\n",
        "   seizure ornot.\n",
        "3. Forecasting the closing price of a stock each day.\n",
        "4. Forecasting the birth rate at all hospitals in a city each year.\n",
        "5. Forecasting product sales in units sold each day for a store.\n",
        "6. Forecasting the number of passengers through a train station each day.\n",
        "7. Forecasting unemployment for a state each quarter.\n",
        "8. Forecasting utilization demand on a server each hour.\n",
        "9. Forecasting the size of the rabbit population in a state each breeding\n",
        "   season.\n",
        "10. Forecasting the average price of gasoline in a city each day."
      ],
      "metadata": {
        "id": "scmT66LvrlrC"
      }
    },
    {
      "cell_type": "markdown",
      "source": [
        "At the end of this notebook, you will discover the  fundamental concepts of time series forecasting: time series data, difference between time series analysis and time series forecasting, examples of time series forecasting problems, sliding window, univariate time series and multivariate analyses etc.\n",
        "\n",
        "Again, you will learn basic time series data wrangling: how to load time series data into pandas data frame, query the loaded data using date-times, calculate and review summary statistics.\n"
      ],
      "metadata": {
        "id": "kn9HUiChsoT8"
      }
    },
    {
      "cell_type": "markdown",
      "source": [
        "## Time Series\n",
        "A time series is a sequence of observations taken sequentially in time. For example:"
      ],
      "metadata": {
        "id": "WuShCZFgwfTa"
      }
    },
    {
      "cell_type": "markdown",
      "source": [
        "time, measure\n",
        "\n",
        "1,    100\n",
        "\n",
        "2,    110\n",
        "\n",
        "3,    108\n",
        "\n",
        "4,    115\n",
        "\n",
        "5,    120"
      ],
      "metadata": {
        "id": "YwfCU5NfwWeW"
      }
    },
    {
      "cell_type": "markdown",
      "source": [
        "## Time Series Analysis vs. Time Series Forecasting\n",
        "We have different goals depending on whether we are interested in understanding a dataset\n",
        "or making predictions. Understanding a dataset, called time series analysis, can help to make\n",
        "better predictions.\n",
        "\n"
      ],
      "metadata": {
        "id": "CzKr_qkG0QC6"
      }
    },
    {
      "cell_type": "markdown",
      "source": [
        "\n",
        "In classical statistics, we are mainly interested in the analysis of time series (descriptive modeling). The primary objective of time series analysis is to develop mathematical models that best describe the sample data.\n",
        "This field seeks to answer the \"why\" question behind a time series dataset."
      ],
      "metadata": {
        "id": "Ukbtd3CI07QV"
      }
    },
    {
      "cell_type": "markdown",
      "source": [
        "In contrast, time series forecasting (predictive modeling) uses the information in a time\n",
        "series (perhaps with additional information) to forecast future values of that series.\n"
      ],
      "metadata": {
        "id": "8UdIZmMS39lq"
      }
    },
    {
      "cell_type": "markdown",
      "source": [
        "## Features of Time Series\n",
        "The main features of many time series are levels, trends, seasonal variations and noise.\n",
        "\n",
        "• Level. The baseline value for the series if it were a straight line.\n",
        "\n",
        "• Trend. The optional and often linear increasing or decreasing behavior of the series over\n",
        "time.\n",
        "\n",
        "• Seasonality. The optional repeating patterns or cycles of behavior over time.\n",
        "\n",
        "• Noise. The optional variability in the observations that cannot be explained by the model.\n",
        "\n",
        "All time series have a level, most have noise, and the trend and seasonality are optional.\n"
      ],
      "metadata": {
        "id": "Y1x3cMvN44hv"
      }
    },
    {
      "cell_type": "markdown",
      "source": [
        "## Time Series Nomenclature\n"
      ],
      "metadata": {
        "id": "vg5DYTlm6Vew"
      }
    },
    {
      "cell_type": "markdown",
      "source": [
        "Before we move on, it is important to quickly establish the standard terms used when describing\n",
        "time series data. The current time is defined as t, an observation at the current time is defined\n",
        "as obs(t).\n",
        "\n",
        "We are often interested in the observations made at prior times, called lag times or lags.\n",
        "Times in the past are negative relative to the current time. For example the previous time is t-1\n",
        "and the time before that is t-2. The observations at these times are obs(t-1) and obs(t-2)\n",
        "respectively.\n",
        "\n",
        "Times in the future are what we are interested in forecasting and are positive\n",
        "relative to the current time. For example the next time is t+1 and the time after that is t+2.\n",
        "The observations at these times are obs(t+1) and obs(t+2) respectively.\n",
        "\n",
        "For simplicity, we often drop the obs(t) notation and use t+1 instead and assume we are\n",
        "talking about observations at times rather than the time indexes themselves. Additionally, we\n",
        "can refer to an observation at a lag by shorthand such as a lag of 10 or lag=10 which would be\n",
        "the same as t-10.\n",
        "\n",
        "To summarize:\n",
        "\n",
        "• t-n: A prior or lag time (e.g. t-1 for the previous time).\n",
        "\n",
        "• t: A current time and point of reference.\n",
        "\n",
        "• t+n: A future or forecast time (e.g. t+1 for the next time).\n"
      ],
      "metadata": {
        "id": "YBD3TiWQ_WOG"
      }
    },
    {
      "cell_type": "markdown",
      "source": [
        "## Sliding Window For Time Series Data\n",
        "The use of prior time steps to predict the next time step is called the sliding window method. For short, it may be called the window method in some literature. In statistics and time series analysis, this is called a lag or lag method.\n",
        "\n",
        "The number of previous time steps is called the window width or size of the lag."
      ],
      "metadata": {
        "id": "-EZ0XK_QASWc"
      }
    },
    {
      "cell_type": "markdown",
      "source": [
        "## Univeriate and Multivariate Time Series Data\n",
        "The number of observations recorded for a given time in a time series dataset matters. Traditionally, we have:\n",
        "\n",
        "1. Univariate Time Series: These are datasets where only a single variable is observed at each time, such as temperature each hour. The example in the previous section is a univariate time series dataset.\n",
        "\n",
        "2. Multivariate Time Series: These are datasets where two or more variables are observed at each time.\n",
        "\n",
        "In general, multivariate time series analysis is much more complicated than univariate time series analysis."
      ],
      "metadata": {
        "id": "DAjemiKTB9nu"
      }
    },
    {
      "cell_type": "markdown",
      "source": [
        "## Load and Explore Time Series Data\n",
        "The Pandas library in Python provides excellent, built-in support for time series data. Once\n",
        "loaded, Pandas also provides tools to explore and better understand your dataset. In this lesson,\n",
        "you will discover how to load and explore your time series dataset."
      ],
      "metadata": {
        "id": "sejEBQ2iDFfG"
      }
    },
    {
      "cell_type": "markdown",
      "source": [
        "### Daily Female Births Dataset\n",
        "In this lesson, we will use the Daily Female Births Dataset as an example. This dataset\n",
        "describes the number of daily female births in California in 1959."
      ],
      "metadata": {
        "id": "ghdgt5a3FYXS"
      }
    },
    {
      "cell_type": "markdown",
      "source": [
        "### Load Time Series Data\n",
        "Pandas represented time series data as a Series. A Series\n",
        "is a one-dimensional array with a\n",
        "time label for each row. Let's load our data:"
      ],
      "metadata": {
        "id": "v1OutnepFwG-"
      }
    },
    {
      "cell_type": "code",
      "source": [
        "# load dataset using read_csv()\n",
        "from pandas import read_csv\n",
        "series = read_csv('daily-total-female-births.csv', header=0, index_col=0, parse_dates=True,\n",
        "squeeze=True)\n",
        "\n"
      ],
      "metadata": {
        "id": "g71XRiyhF84B",
        "colab": {
          "base_uri": "https://localhost:8080/"
        },
        "outputId": "d71809fd-e096-49b2-d021-bbf1f1fdffaf"
      },
      "execution_count": 1,
      "outputs": [
        {
          "output_type": "stream",
          "name": "stderr",
          "text": [
            "<ipython-input-1-a373d9ccb1f9>:3: FutureWarning: The squeeze argument has been deprecated and will be removed in a future version. Append .squeeze(\"columns\") to the call to squeeze.\n",
            "\n",
            "\n",
            "  series = read_csv('daily-total-female-births.csv', header=0, index_col=0, parse_dates=True,\n"
          ]
        }
      ]
    },
    {
      "cell_type": "markdown",
      "source": [
        "Let's see the data type  and few rows from the data:"
      ],
      "metadata": {
        "id": "sjHE-BuBJht1"
      }
    },
    {
      "cell_type": "code",
      "source": [
        "print(type(series))\n",
        "print(series.head())"
      ],
      "metadata": {
        "colab": {
          "base_uri": "https://localhost:8080/"
        },
        "id": "bI93F3dJJedr",
        "outputId": "bac90fdd-587b-4ab9-82f8-20faa89748cb"
      },
      "execution_count": 2,
      "outputs": [
        {
          "output_type": "stream",
          "name": "stdout",
          "text": [
            "<class 'pandas.core.series.Series'>\n",
            "Date\n",
            "1959-01-01    35\n",
            "1959-01-02    32\n",
            "1959-01-03    30\n",
            "1959-01-04    31\n",
            "1959-01-05    44\n",
            "Name: Births, dtype: int64\n"
          ]
        }
      ]
    },
    {
      "cell_type": "markdown",
      "source": [
        "### Exploring Time Series Data\n",
        "Pandas also provides tools to explore and summarize your time series data. We’ll\n",
        "take a look at a few, common operations to explore and summarize your loaded time series data."
      ],
      "metadata": {
        "id": "YEUe8FpoKBs_"
      }
    },
    {
      "cell_type": "markdown",
      "source": [
        "Let's see the number of observations we have:\n"
      ],
      "metadata": {
        "id": "Z1pu1Ne_KDDD"
      }
    },
    {
      "cell_type": "code",
      "source": [
        "print(series.size)\n"
      ],
      "metadata": {
        "colab": {
          "base_uri": "https://localhost:8080/"
        },
        "id": "retoPTEnKyoI",
        "outputId": "0d914f1e-2fdd-4fbf-a0ad-a3879436a1d1"
      },
      "execution_count": 3,
      "outputs": [
        {
          "output_type": "stream",
          "name": "stdout",
          "text": [
            "365\n"
          ]
        }
      ]
    },
    {
      "cell_type": "markdown",
      "source": [
        "Running the above code we can see that as we would expect, there are 365 observations, one\n",
        "for each day of the year in 1959."
      ],
      "metadata": {
        "id": "HQWmIyUUK9iJ"
      }
    },
    {
      "cell_type": "markdown",
      "source": [
        "### Querying By Time\n",
        "You can slice, dice, and query your series using the time index. For example, you can access all\n",
        "observations in January as follows:"
      ],
      "metadata": {
        "id": "7NOi_7TvLOPM"
      }
    },
    {
      "cell_type": "code",
      "source": [
        "print(series['1959-01'])\n"
      ],
      "metadata": {
        "colab": {
          "base_uri": "https://localhost:8080/"
        },
        "id": "yiW-a1wiLQfJ",
        "outputId": "491f8b3f-bc4e-4e9a-e593-a61764805573"
      },
      "execution_count": 4,
      "outputs": [
        {
          "output_type": "stream",
          "name": "stdout",
          "text": [
            "Date\n",
            "1959-01-01    35\n",
            "1959-01-02    32\n",
            "1959-01-03    30\n",
            "1959-01-04    31\n",
            "1959-01-05    44\n",
            "1959-01-06    29\n",
            "1959-01-07    45\n",
            "1959-01-08    43\n",
            "1959-01-09    38\n",
            "1959-01-10    27\n",
            "1959-01-11    38\n",
            "1959-01-12    33\n",
            "1959-01-13    55\n",
            "1959-01-14    47\n",
            "1959-01-15    45\n",
            "1959-01-16    37\n",
            "1959-01-17    50\n",
            "1959-01-18    43\n",
            "1959-01-19    41\n",
            "1959-01-20    52\n",
            "1959-01-21    34\n",
            "1959-01-22    53\n",
            "1959-01-23    39\n",
            "1959-01-24    32\n",
            "1959-01-25    37\n",
            "1959-01-26    43\n",
            "1959-01-27    39\n",
            "1959-01-28    35\n",
            "1959-01-29    44\n",
            "1959-01-30    38\n",
            "1959-01-31    24\n",
            "Name: Births, dtype: int64\n"
          ]
        }
      ]
    },
    {
      "cell_type": "markdown",
      "source": [
        "### Descriptive Statistics\n",
        "Calculating descriptive statistics on your time series can help get an idea of the distribution and\n",
        "spread of values. This may help with ideas of data scaling and even data cleaning that you can\n",
        "perform later as part of preparing your dataset for modeling.\n",
        "\n",
        "The describe() function creates\n",
        "a 7 number summary of the loaded time series including mean, standard deviation, median,\n",
        "minimum, and maximum of the observations."
      ],
      "metadata": {
        "id": "5i8j8_RmLnHp"
      }
    },
    {
      "cell_type": "code",
      "source": [
        "print(series.describe())\n"
      ],
      "metadata": {
        "colab": {
          "base_uri": "https://localhost:8080/"
        },
        "id": "mfSZ8AxlLyMU",
        "outputId": "aee342f6-8030-40c7-8aed-768ab09e3b98"
      },
      "execution_count": 5,
      "outputs": [
        {
          "output_type": "stream",
          "name": "stdout",
          "text": [
            "count    365.000000\n",
            "mean      41.980822\n",
            "std        7.348257\n",
            "min       23.000000\n",
            "25%       37.000000\n",
            "50%       42.000000\n",
            "75%       46.000000\n",
            "max       73.000000\n",
            "Name: Births, dtype: float64\n"
          ]
        }
      ]
    },
    {
      "cell_type": "markdown",
      "source": [
        "## Acknowledgements\n",
        "The content of this notebook was adopted from:\n",
        "\n",
        "1. Time Series Forecasting with Python (Book by Jason Brownlee)\n",
        "\n",
        "2. Time Series Forecasting as Supervised Learning (Blog by Jason Brownlee)"
      ],
      "metadata": {
        "id": "24tqwr8YMA_s"
      }
    },
    {
      "cell_type": "markdown",
      "source": [
        "Thanks!"
      ],
      "metadata": {
        "id": "Qz1Ab3c4M6It"
      }
    }
  ]
}