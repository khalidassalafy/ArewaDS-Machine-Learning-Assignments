{
 "cells": [
  {
   "attachments": {},
   "cell_type": "markdown",
   "metadata": {},
   "source": [
    "# History of Machine Learning (Week 1)"
   ]
  },
  {
   "cell_type": "code",
   "execution_count": 1,
   "metadata": {},
   "outputs": [
    {
     "data": {
      "text/plain": [
       "'\\nIn this lesson, I learned that:\\n    1. Machine learning was inspired by learning process of human brain.\\n    2. AI is to program facsimile an intelligent behavioral process to a machine.\\n    3. Deep learnling is a subset of ML, which is a subset of AI. Data science cut across all these fields.\\n    4. ML is now applied almost everywhere.\\n    5. History of ML can not be separated from that of AI\\n    6.The term AI was coined in 1956 at Dartmouth Summer Reseaerch Project.\\n    7. There was so much hope and optimism from 1950s to 70s that AI could solve  many problems.\\n    8. AI winter was a period in the mid 70s when it became apparent that  the complexity of making intelligent systems\\n        had been under estimated, and so funding and  confidence in the field slowed.\\n    9. 1993-2011 was the epoch that saw  a new era for ML and AI to be able to solve problems that had been caused earlier\\n        due to paucity of data  and limited computing power.\\n    10. Toda, AI and ML have touched almost  every part of our lives, hence  there are calls for careful understanding of the \\n        potential risks  of these algorithms on human lives.\\n'"
      ]
     },
     "execution_count": 1,
     "metadata": {},
     "output_type": "execute_result"
    }
   ],
   "source": [
    "'''\n",
    "In this lesson, I learned that:\n",
    "    1. Machine learning was inspired by learning process of human brain.\n",
    "    2. AI is to program facsimile an intelligent behavioral process to a machine.\n",
    "    3. Deep learnling is a subset of ML, which is a subset of AI. Data science cut across all these fields.\n",
    "    4. ML is now applied almost everywhere.\n",
    "    5. History of ML can not be separated from that of AI\n",
    "    6.The term AI was coined in 1956 at Dartmouth Summer Reseaerch Project.\n",
    "    7. There was so much hope and optimism from 1950s to 70s that AI could solve  many problems.\n",
    "    8. AI winter was a period in the mid 70s when it became apparent that  the complexity of making intelligent systems\n",
    "        had been under estimated, and so funding and  confidence in the field slowed.\n",
    "    9. 1993-2011 was the epoch that saw  a new era for ML and AI to be able to solve problems that had been caused earlier\n",
    "        due to paucity of data  and limited computing power.\n",
    "    10. Today, AI and ML have touched almost  every part of our lives, hence  there are calls for careful understanding of the \n",
    "        potential risks  of these algorithms on human lives.\n",
    "'''"
   ]
  }
 ],
 "metadata": {
  "kernelspec": {
   "display_name": "Python 3",
   "language": "python",
   "name": "python3"
  },
  "language_info": {
   "codemirror_mode": {
    "name": "ipython",
    "version": 3
   },
   "file_extension": ".py",
   "mimetype": "text/x-python",
   "name": "python",
   "nbconvert_exporter": "python",
   "pygments_lexer": "ipython3",
   "version": "3.11.2"
  },
  "orig_nbformat": 4,
  "vscode": {
   "interpreter": {
    "hash": "a6c3004ce060ded9e0c076ab48db6d8cf68670c15173d9367e97ef3f186c9ed1"
   }
  }
 },
 "nbformat": 4,
 "nbformat_minor": 2
}
