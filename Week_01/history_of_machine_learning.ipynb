{
 "cells": [
  {
   "attachments": {},
   "cell_type": "markdown",
   "metadata": {},
   "source": [
    "# History of Machine Learning (Week 1)"
   ]
  },
  {
   "cell_type": "code",
   "execution_count": null,
   "metadata": {},
   "outputs": [],
   "source": [
    "'''\n",
    "In this lesson, I learned that:\n",
    "    1. Machine learning was inspired by learning process of human brain.\n",
    "    2. AI is to program facsimile an intelligent behavioral process to a machine.\n",
    "    3. Deep learnling is a subset of ML, which is a subset of AI. Data science cut across all these fields.\n",
    "    4. ML is now applied almost everywhere.\n",
    "    5. History of ML can not be separated from that of AI\n",
    "    6.The term AI was coined in 1956 at Dartmouth Summer Reseaerch Project.\n",
    "    7. There was so much hope and optimism from 1950s to 70s that AI could solve  many problems.\n",
    "    8. AI winter was a period in the mid 70s when it became apparent that  the complexity of making intelligent systems\n",
    "        had been under estimated, and so funding and  confidence in the field slowed.\n",
    "    9. 1993-2011 was the epoch that saw  a new era for ML and AI to be able to solve problems that had been caused earlier\n",
    "        due to paucity of data  and limited computing power.\n",
    "    10. Toda, AI and ML have touched almost  every part of our lives, hence  there are calls for careful understanding of the \n",
    "        potential risks  of these algorithms on human lives.\n",
    "'''"
   ]
  }
 ],
 "metadata": {
  "language_info": {
   "name": "python"
  },
  "orig_nbformat": 4
 },
 "nbformat": 4,
 "nbformat_minor": 2
}
