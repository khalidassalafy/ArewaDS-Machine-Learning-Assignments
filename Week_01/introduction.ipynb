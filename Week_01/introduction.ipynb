{
 "cells": [
  {
   "attachments": {},
   "cell_type": "markdown",
   "metadata": {},
   "source": [
    "# Introduction (Week 1)"
   ]
  },
  {
   "cell_type": "code",
   "execution_count": 1,
   "metadata": {},
   "outputs": [
    {
     "data": {
      "text/plain": [
       "'\\nFrom this lesson I learned that:\\n    1. Machine learning automates the process of pattern-discovery by finding meaningful insights from real-world \\n       or generated data. \\n    2. It has proven itself to be highly valuable in business, health, and financial applications, among others.\\n    3. In the near future, understanding the basics of machine learning is going to be a must for people from any domain\\n       due to its widespread adoption.\\n'"
      ]
     },
     "execution_count": 1,
     "metadata": {},
     "output_type": "execute_result"
    }
   ],
   "source": [
    "'''\n",
    "From this lesson I learned that:\n",
    "    1. Machine learning automates the process of pattern-discovery by finding meaningful insights from real-world \n",
    "       or generated data. \n",
    "    2. It has proven itself to be highly valuable in business, health, and financial applications, among others.\n",
    "    3. In the near future, understanding the basics of machine learning is going to be a must for people from any domain\n",
    "       due to its widespread adoption.\n",
    "'''"
   ]
  }
 ],
 "metadata": {
  "kernelspec": {
   "display_name": "Python 3",
   "language": "python",
   "name": "python3"
  },
  "language_info": {
   "codemirror_mode": {
    "name": "ipython",
    "version": 3
   },
   "file_extension": ".py",
   "mimetype": "text/x-python",
   "name": "python",
   "nbconvert_exporter": "python",
   "pygments_lexer": "ipython3",
   "version": "3.11.2"
  },
  "orig_nbformat": 4
 },
 "nbformat": 4,
 "nbformat_minor": 2
}
