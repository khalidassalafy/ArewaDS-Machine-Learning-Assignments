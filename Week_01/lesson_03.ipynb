{
 "cells": [
  {
   "attachments": {},
   "cell_type": "markdown",
   "metadata": {},
   "source": [
    "# Fairness in Machine Learning (Week 1)"
   ]
  },
  {
   "cell_type": "code",
   "execution_count": 1,
   "metadata": {},
   "outputs": [
    {
     "data": {
      "text/plain": [
       "'\\nIn this lesson I learned :\\n    1. fairness-realted harms in AI systems, examples, assessment and mitigation\\n    2. To prevent biases from being introduced in the first place, we should:\\n        i) have a diversity of backgrounds and perspectives among the people working on systems\\n        ii) invest in datasets that reflect the diversity of our society\\n        iii) develop better methods for detecting and correcting bias when it occurs\\n'"
      ]
     },
     "execution_count": 1,
     "metadata": {},
     "output_type": "execute_result"
    }
   ],
   "source": [
    "'''\n",
    "In this lesson I learned :\n",
    "    1. fairness-realted harms in AI systems, examples, assessment and mitigation\n",
    "    2. To prevent biases from being introduced in the first place, we should:\n",
    "        i) have a diversity of backgrounds and perspectives among the people working on systems\n",
    "        ii) invest in datasets that reflect the diversity of our society\n",
    "        iii) develop better methods for detecting and correcting bias when it occurs\n",
    "'''"
   ]
  }
 ],
 "metadata": {
  "kernelspec": {
   "display_name": "Python 3",
   "language": "python",
   "name": "python3"
  },
  "language_info": {
   "codemirror_mode": {
    "name": "ipython",
    "version": 3
   },
   "file_extension": ".py",
   "mimetype": "text/x-python",
   "name": "python",
   "nbconvert_exporter": "python",
   "pygments_lexer": "ipython3",
   "version": "3.11.3"
  },
  "orig_nbformat": 4,
  "vscode": {
   "interpreter": {
    "hash": "a6c3004ce060ded9e0c076ab48db6d8cf68670c15173d9367e97ef3f186c9ed1"
   }
  }
 },
 "nbformat": 4,
 "nbformat_minor": 2
}
