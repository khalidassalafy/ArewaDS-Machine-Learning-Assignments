{
 "cells": [
  {
   "attachments": {},
   "cell_type": "markdown",
   "metadata": {},
   "source": [
    "# Machine Learning Techniques (Week 1)"
   ]
  },
  {
   "attachments": {},
   "cell_type": "markdown",
   "metadata": {},
   "source": [
    "In this Lesson I learned that there are 7 processes one needs to master to become a full stack Machine Learning Engineer:\n",
    "    1) Asking a question\n",
    "    2) Data collection and preparation\n",
    "    3) Deciding on a method to train a model\n",
    "    4) Training the model\n",
    "    5) Evaluating the model performance\n",
    "    6) Parameter tuning\n",
    "    7) Prediction"
   ]
  }
 ],
 "metadata": {
  "language_info": {
   "name": "python"
  },
  "orig_nbformat": 4
 },
 "nbformat": 4,
 "nbformat_minor": 2
}
